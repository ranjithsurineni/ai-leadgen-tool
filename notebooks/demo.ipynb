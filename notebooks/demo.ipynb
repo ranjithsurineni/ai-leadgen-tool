{
 "cells": [
  {
   "cell_type": "markdown",
   "id": "d4f8b73d",
   "metadata": {},
   "source": [
    "'Optional Notebook Walkthrough'"
   ]
  },
  {
   "cell_type": "code",
   "execution_count": null,
   "id": "1097ec81",
   "metadata": {},
   "outputs": [],
   "source": [
    "# Load & display data\n",
    "import pandas as pd\n",
    "df = pd.read_csv(\"../data/leads_ranked.csv\")\n",
    "df.head()"
   ]
  }
 ],
 "metadata": {
  "kernelspec": {
   "display_name": "base",
   "language": "python",
   "name": "python3"
  },
  "language_info": {
   "name": "python",
   "version": "3.12.7"
  }
 },
 "nbformat": 4,
 "nbformat_minor": 5
}
